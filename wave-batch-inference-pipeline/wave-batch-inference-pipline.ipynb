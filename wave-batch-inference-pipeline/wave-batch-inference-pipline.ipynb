{
 "cells": [
  {
   "cell_type": "code",
   "execution_count": 97,
   "metadata": {},
   "outputs": [],
   "source": [
    "import hopsworks\n",
    "import pandas as pd\n",
    "import numpy as np \n",
    "import joblib\n",
    "from datetime import datetime\n",
    "import dataframe_image as dfi\n",
    "import matplotlib.pyplot as plt \n",
    "from sklearn.metrics import mean_absolute_error"
   ]
  },
  {
   "cell_type": "code",
   "execution_count": 22,
   "metadata": {},
   "outputs": [],
   "source": [
    "import sys \n",
    "import os\n",
    "os.chdir('/'.join(os.getcwd().split('/')[:-1]))\n",
    "from wave_model.LinReg import LinReg"
   ]
  },
  {
   "cell_type": "code",
   "execution_count": 2,
   "metadata": {},
   "outputs": [
    {
     "name": "stdout",
     "output_type": "stream",
     "text": [
      "Connected. Call `.close()` to terminate connection gracefully.\n"
     ]
    },
    {
     "name": "stderr",
     "output_type": "stream",
     "text": [
      "DeprecationWarning: ssl.PROTOCOL_TLS is deprecated\n"
     ]
    },
    {
     "name": "stdout",
     "output_type": "stream",
     "text": [
      "\n",
      "Multiple projects found. \n",
      "\n",
      "\t (1) SMDL_A01\n",
      "\t (2) kompot\n",
      "\n",
      "Logged in to project, explore it here https://c.app.hopsworks.ai:443/p/194711\n",
      "Connected. Call `.close()` to terminate connection gracefully.\n"
     ]
    }
   ],
   "source": [
    "project = hopsworks.login()\n",
    "fs = project.get_feature_store()"
   ]
  },
  {
   "cell_type": "code",
   "execution_count": 23,
   "metadata": {},
   "outputs": [
    {
     "name": "stdout",
     "output_type": "stream",
     "text": [
      "Connected. Call `.close()` to terminate connection gracefully.\n"
     ]
    }
   ],
   "source": [
    "mr = project.get_model_registry()\n",
    "model = mr.get_model('wave_reg',version=1)\n",
    "model_dir = model.download()\n",
    "model = joblib.load(model_dir + \"/wave_reg.pkl\")"
   ]
  },
  {
   "cell_type": "code",
   "execution_count": 37,
   "metadata": {},
   "outputs": [
    {
     "name": "stderr",
     "output_type": "stream",
     "text": [
      "DeprecationWarning: ssl.PROTOCOL_TLS is deprecated\n"
     ]
    },
    {
     "name": "stdout",
     "output_type": "stream",
     "text": [
      "Finished: Reading data from Hopsworks, using Hive (1.50s) \n"
     ]
    }
   ],
   "source": [
    "fv = fs.get_feature_view('merged_swells_huntington', version=5)\n",
    "df = fv.get_batch_data(\n",
    "    #start_time = \"20240101\",\n",
    "    #end_time = \"20240106\",\n",
    "    read_options={\"use_hive\": True})"
   ]
  },
  {
   "cell_type": "code",
   "execution_count": 38,
   "metadata": {},
   "outputs": [],
   "source": [
    "y_pred = model.predict_labels(df)"
   ]
  },
  {
   "cell_type": "code",
   "execution_count": 40,
   "metadata": {},
   "outputs": [
    {
     "data": {
      "text/html": [
       "<div>\n",
       "<style scoped>\n",
       "    .dataframe tbody tr th:only-of-type {\n",
       "        vertical-align: middle;\n",
       "    }\n",
       "\n",
       "    .dataframe tbody tr th {\n",
       "        vertical-align: top;\n",
       "    }\n",
       "\n",
       "    .dataframe thead th {\n",
       "        text-align: right;\n",
       "    }\n",
       "</style>\n",
       "<table border=\"1\" class=\"dataframe\">\n",
       "  <thead>\n",
       "    <tr style=\"text-align: right;\">\n",
       "      <th></th>\n",
       "      <th>height</th>\n",
       "      <th>period</th>\n",
       "      <th>direction</th>\n",
       "    </tr>\n",
       "  </thead>\n",
       "  <tbody>\n",
       "    <tr>\n",
       "      <th>0</th>\n",
       "      <td>0.20</td>\n",
       "      <td>13.5</td>\n",
       "      <td>14.0</td>\n",
       "    </tr>\n",
       "    <tr>\n",
       "      <th>1</th>\n",
       "      <td>0.19</td>\n",
       "      <td>15.5</td>\n",
       "      <td>11.0</td>\n",
       "    </tr>\n",
       "    <tr>\n",
       "      <th>2</th>\n",
       "      <td>0.20</td>\n",
       "      <td>14.6</td>\n",
       "      <td>10.0</td>\n",
       "    </tr>\n",
       "    <tr>\n",
       "      <th>3</th>\n",
       "      <td>0.35</td>\n",
       "      <td>4.0</td>\n",
       "      <td>82.0</td>\n",
       "    </tr>\n",
       "    <tr>\n",
       "      <th>4</th>\n",
       "      <td>1.01</td>\n",
       "      <td>15.6</td>\n",
       "      <td>88.0</td>\n",
       "    </tr>\n",
       "    <tr>\n",
       "      <th>5</th>\n",
       "      <td>0.19</td>\n",
       "      <td>12.7</td>\n",
       "      <td>13.0</td>\n",
       "    </tr>\n",
       "    <tr>\n",
       "      <th>6</th>\n",
       "      <td>0.20</td>\n",
       "      <td>14.1</td>\n",
       "      <td>11.0</td>\n",
       "    </tr>\n",
       "    <tr>\n",
       "      <th>7</th>\n",
       "      <td>0.18</td>\n",
       "      <td>16.0</td>\n",
       "      <td>13.0</td>\n",
       "    </tr>\n",
       "    <tr>\n",
       "      <th>8</th>\n",
       "      <td>1.18</td>\n",
       "      <td>16.1</td>\n",
       "      <td>89.0</td>\n",
       "    </tr>\n",
       "    <tr>\n",
       "      <th>9</th>\n",
       "      <td>0.56</td>\n",
       "      <td>11.3</td>\n",
       "      <td>80.0</td>\n",
       "    </tr>\n",
       "    <tr>\n",
       "      <th>10</th>\n",
       "      <td>0.68</td>\n",
       "      <td>7.2</td>\n",
       "      <td>88.0</td>\n",
       "    </tr>\n",
       "    <tr>\n",
       "      <th>11</th>\n",
       "      <td>0.21</td>\n",
       "      <td>14.1</td>\n",
       "      <td>13.0</td>\n",
       "    </tr>\n",
       "    <tr>\n",
       "      <th>12</th>\n",
       "      <td>0.72</td>\n",
       "      <td>8.4</td>\n",
       "      <td>89.0</td>\n",
       "    </tr>\n",
       "    <tr>\n",
       "      <th>13</th>\n",
       "      <td>0.68</td>\n",
       "      <td>8.4</td>\n",
       "      <td>88.0</td>\n",
       "    </tr>\n",
       "    <tr>\n",
       "      <th>14</th>\n",
       "      <td>1.07</td>\n",
       "      <td>13.3</td>\n",
       "      <td>97.0</td>\n",
       "    </tr>\n",
       "    <tr>\n",
       "      <th>15</th>\n",
       "      <td>0.75</td>\n",
       "      <td>7.3</td>\n",
       "      <td>88.0</td>\n",
       "    </tr>\n",
       "    <tr>\n",
       "      <th>16</th>\n",
       "      <td>0.53</td>\n",
       "      <td>7.5</td>\n",
       "      <td>87.0</td>\n",
       "    </tr>\n",
       "    <tr>\n",
       "      <th>17</th>\n",
       "      <td>1.64</td>\n",
       "      <td>5.6</td>\n",
       "      <td>94.0</td>\n",
       "    </tr>\n",
       "    <tr>\n",
       "      <th>18</th>\n",
       "      <td>0.72</td>\n",
       "      <td>7.4</td>\n",
       "      <td>88.0</td>\n",
       "    </tr>\n",
       "  </tbody>\n",
       "</table>\n",
       "</div>"
      ],
      "text/plain": [
       "    height  period  direction\n",
       "0     0.20    13.5       14.0\n",
       "1     0.19    15.5       11.0\n",
       "2     0.20    14.6       10.0\n",
       "3     0.35     4.0       82.0\n",
       "4     1.01    15.6       88.0\n",
       "5     0.19    12.7       13.0\n",
       "6     0.20    14.1       11.0\n",
       "7     0.18    16.0       13.0\n",
       "8     1.18    16.1       89.0\n",
       "9     0.56    11.3       80.0\n",
       "10    0.68     7.2       88.0\n",
       "11    0.21    14.1       13.0\n",
       "12    0.72     8.4       89.0\n",
       "13    0.68     8.4       88.0\n",
       "14    1.07    13.3       97.0\n",
       "15    0.75     7.3       88.0\n",
       "16    0.53     7.5       87.0\n",
       "17    1.64     5.6       94.0\n",
       "18    0.72     7.4       88.0"
      ]
     },
     "execution_count": 40,
     "metadata": {},
     "output_type": "execute_result"
    }
   ],
   "source": [
    "df"
   ]
  },
  {
   "cell_type": "code",
   "execution_count": 39,
   "metadata": {},
   "outputs": [
    {
     "data": {
      "text/plain": [
       "array(['Fair', 'Poor To Fair', 'Poor To Fair', 'Fair To Good',\n",
       "       'Poor To Fair', 'Fair', 'Poor To Fair', 'Poor To Fair', 'Poor',\n",
       "       'Fair', 'Fair', 'Poor To Fair', 'Fair', 'Fair', 'Poor To Fair',\n",
       "       'Fair', 'Fair To Good', 'Fair', 'Fair'], dtype='<U32')"
      ]
     },
     "execution_count": 39,
     "metadata": {},
     "output_type": "execute_result"
    }
   ],
   "source": [
    "y_pred"
   ]
  },
  {
   "cell_type": "code",
   "execution_count": 51,
   "metadata": {},
   "outputs": [
    {
     "name": "stdout",
     "output_type": "stream",
     "text": [
      "Finished: Reading data from Hopsworks, using ArrowFlight (0.83s) \n"
     ]
    },
    {
     "data": {
      "text/plain": [
       "(19, 11)"
      ]
     },
     "execution_count": 51,
     "metadata": {},
     "output_type": "execute_result"
    }
   ],
   "source": [
    "fg = fs.get_feature_group(name=\"merged_swells_huntington\", version=4)\n",
    "df = fg.read()[-df.shape[0]:]\n",
    "df.shape"
   ]
  },
  {
   "cell_type": "code",
   "execution_count": 52,
   "metadata": {},
   "outputs": [],
   "source": [
    "labels = df['quality']"
   ]
  },
  {
   "cell_type": "code",
   "execution_count": 63,
   "metadata": {},
   "outputs": [
    {
     "data": {
      "application/vnd.jupyter.widget-view+json": {
       "model_id": "e56f19dff8cd4208a13943b5472b5fda",
       "version_major": 2,
       "version_minor": 0
      },
      "text/plain": [
       "Uploading Dataframe: 0.00% |          | Rows 0/19 | Elapsed Time: 00:00 | Remaining Time: ?"
      ]
     },
     "metadata": {},
     "output_type": "display_data"
    },
    {
     "name": "stdout",
     "output_type": "stream",
     "text": [
      "Launching job: wave_monitor_predictions_1_offline_fg_materialization\n",
      "Job started successfully, you can follow the progress at \n",
      "https://c.app.hopsworks.ai/p/194711/jobs/named/wave_monitor_predictions_1_offline_fg_materialization/executions\n"
     ]
    },
    {
     "name": "stderr",
     "output_type": "stream",
     "text": [
      "DeprecationWarning: ssl.PROTOCOL_TLS is deprecated\n"
     ]
    },
    {
     "name": "stdout",
     "output_type": "stream",
     "text": [
      "Finished: Reading data from Hopsworks, using Hive (0.95s) \n"
     ]
    }
   ],
   "source": [
    "monitor_fg = fs.get_or_create_feature_group(name=\"wave_monitor_predictions\",\n",
    "                                            version=1,\n",
    "                                            primary_key=[\"datetime\"],\n",
    "                                            description=\"Outcome Monitoring\"\n",
    "                                            )\n",
    "\n",
    "now = datetime.now().strftime(\"%m/%d/%Y, %H:%M:%S\")\n",
    "data = {\n",
    "    'prediction': y_pred,\n",
    "    'label': labels,\n",
    "    'prediction_at': [now for _ in range(len(y_pred))],\n",
    "    'datetime':df['hits_at'].apply(str).str.slice(0,13)\n",
    "    }\n",
    "monitor_df = pd.DataFrame(data)\n",
    "monitor_fg.insert(monitor_df, write_options={\"wait_for_job\" : False})\n",
    "\n",
    "history_df = monitor_fg.read(read_options={\"use_hive\": True} )\n",
    "# Add our prediction to the history, as the history_df won't have it - \n",
    "# the insertion was done asynchronously, so it will take ~1 min to land on App\n",
    "history_df = pd.concat([history_df, monitor_df])"
   ]
  },
  {
   "cell_type": "code",
   "execution_count": 73,
   "metadata": {},
   "outputs": [
    {
     "data": {
      "text/html": [
       "<div>\n",
       "<style scoped>\n",
       "    .dataframe tbody tr th:only-of-type {\n",
       "        vertical-align: middle;\n",
       "    }\n",
       "\n",
       "    .dataframe tbody tr th {\n",
       "        vertical-align: top;\n",
       "    }\n",
       "\n",
       "    .dataframe thead th {\n",
       "        text-align: right;\n",
       "    }\n",
       "</style>\n",
       "<table border=\"1\" class=\"dataframe\">\n",
       "  <thead>\n",
       "    <tr style=\"text-align: right;\">\n",
       "      <th></th>\n",
       "      <th>prediction</th>\n",
       "      <th>label</th>\n",
       "      <th>abs_err</th>\n",
       "      <th>datetime</th>\n",
       "      <th>prediction_at</th>\n",
       "    </tr>\n",
       "  </thead>\n",
       "  <tbody>\n",
       "    <tr>\n",
       "      <th>14</th>\n",
       "      <td>Poor To Fair</td>\n",
       "      <td>Fair To Good</td>\n",
       "      <td>2</td>\n",
       "      <td>2024-01-04 06</td>\n",
       "      <td>01/06/2024, 01:32:51</td>\n",
       "    </tr>\n",
       "    <tr>\n",
       "      <th>15</th>\n",
       "      <td>Fair</td>\n",
       "      <td>Fair</td>\n",
       "      <td>0</td>\n",
       "      <td>2024-01-05 07</td>\n",
       "      <td>01/06/2024, 01:32:51</td>\n",
       "    </tr>\n",
       "    <tr>\n",
       "      <th>16</th>\n",
       "      <td>Fair To Good</td>\n",
       "      <td>Fair</td>\n",
       "      <td>1</td>\n",
       "      <td>2024-01-04 12</td>\n",
       "      <td>01/06/2024, 01:32:51</td>\n",
       "    </tr>\n",
       "    <tr>\n",
       "      <th>17</th>\n",
       "      <td>Fair</td>\n",
       "      <td>Poor</td>\n",
       "      <td>2</td>\n",
       "      <td>2024-01-03 12</td>\n",
       "      <td>01/06/2024, 01:32:51</td>\n",
       "    </tr>\n",
       "    <tr>\n",
       "      <th>18</th>\n",
       "      <td>Fair</td>\n",
       "      <td>Fair To Good</td>\n",
       "      <td>1</td>\n",
       "      <td>2024-01-05 12</td>\n",
       "      <td>01/06/2024, 01:32:51</td>\n",
       "    </tr>\n",
       "  </tbody>\n",
       "</table>\n",
       "</div>"
      ],
      "text/plain": [
       "      prediction         label  abs_err       datetime         prediction_at\n",
       "14  Poor To Fair  Fair To Good        2  2024-01-04 06  01/06/2024, 01:32:51\n",
       "15          Fair          Fair        0  2024-01-05 07  01/06/2024, 01:32:51\n",
       "16  Fair To Good          Fair        1  2024-01-04 12  01/06/2024, 01:32:51\n",
       "17          Fair          Poor        2  2024-01-03 12  01/06/2024, 01:32:51\n",
       "18          Fair  Fair To Good        1  2024-01-05 12  01/06/2024, 01:32:51"
      ]
     },
     "execution_count": 73,
     "metadata": {},
     "output_type": "execute_result"
    }
   ],
   "source": [
    "df_export = pd.DataFrame({'prediction':history_df['prediction'],\n",
    " 'label':history_df['label'],\n",
    " 'abs_err':np.abs(model.encode(history_df['label']).reshape(-1) - model.encode(history_df['prediction'])),\n",
    " 'datetime':history_df['datetime'],\n",
    " 'prediction_at':history_df['prediction_at']})\n",
    "df_export.tail()"
   ]
  },
  {
   "cell_type": "code",
   "execution_count": 75,
   "metadata": {},
   "outputs": [
    {
     "data": {
      "application/vnd.jupyter.widget-view+json": {
       "model_id": "0e2199aeda1f4311b5e49a36c95ae7e5",
       "version_major": 2,
       "version_minor": 0
      },
      "text/plain": [
       "Uploading: 0.000%|          | 0/45882 elapsed<00:00 remaining<?"
      ]
     },
     "metadata": {},
     "output_type": "display_data"
    },
    {
     "data": {
      "text/plain": [
       "'Resources/images/wave_df_recent.png'"
      ]
     },
     "execution_count": 75,
     "metadata": {},
     "output_type": "execute_result"
    }
   ],
   "source": [
    "df_recent = df_export.tail(5)\n",
    "dfi.export(df_recent, './wave_df_recent.png', table_conversion = 'matplotlib')\n",
    "dataset_api = project.get_dataset_api()\n",
    "dataset_api.upload(\"./wave_df_recent.png\", \"Resources/images\", overwrite=True)"
   ]
  },
  {
   "cell_type": "code",
   "execution_count": 98,
   "metadata": {},
   "outputs": [],
   "source": [
    "predictions = model.encode(history_df.tail(10)['prediction'])\n",
    "labels = model.encode(history_df.tail(10)['label'])\n",
    "mae = mean_absolute_error(labels,predictions)"
   ]
  },
  {
   "cell_type": "code",
   "execution_count": 105,
   "metadata": {},
   "outputs": [
    {
     "data": {
      "image/png": "[encoded data removed]",
      "text/plain": [
       "<Figure size 640x480 with 1 Axes>"
      ]
     },
     "metadata": {},
     "output_type": "display_data"
    }
   ],
   "source": [
    "fig,ax = plt.subplots()\n",
    "ax.text(0.5,0.9,'MAE',fontsize=50,ha='center')\n",
    "ax.text(0.5,0.5,mae,fontsize=100,va='center', ha='center')\n",
    "ax.text(0.5,0.1,'from last 10 data points',fontsize=25,va='center', ha='center')\n",
    "ax.tick_params(left=False, labelleft=False, bottom=False, labelbottom=False)\n",
    "for spine in ax.spines.values():\n",
    "    spine.set_visible(False)\n",
    "fig.savefig('wave_mae_recent')"
   ]
  },
  {
   "cell_type": "code",
   "execution_count": 106,
   "metadata": {},
   "outputs": [
    {
     "data": {
      "application/vnd.jupyter.widget-view+json": {
       "model_id": "7e503867f6334bedab91533ff3ba7fb4",
       "version_major": 2,
       "version_minor": 0
      },
      "text/plain": [
       "Uploading: 0.000%|          | 0/20341 elapsed<00:00 remaining<?"
      ]
     },
     "metadata": {},
     "output_type": "display_data"
    },
    {
     "data": {
      "text/plain": [
       "'Resources/images/wave_mae_recent.png'"
      ]
     },
     "execution_count": 106,
     "metadata": {},
     "output_type": "execute_result"
    }
   ],
   "source": [
    "dataset_api.upload(\"./wave_mae_recent.png\", \"Resources/images\", overwrite=True)"
   ]
  },
  {
   "cell_type": "code",
   "execution_count": null,
   "metadata": {},
   "outputs": [],
   "source": []
  }
 ],
 "metadata": {
  "kernelspec": {
   "display_name": "SMDL",
   "language": "python",
   "name": "python3"
  },
  "language_info": {
   "codemirror_mode": {
    "name": "ipython",
    "version": 3
   },
   "file_extension": ".py",
   "mimetype": "text/x-python",
   "name": "python",
   "nbconvert_exporter": "python",
   "pygments_lexer": "ipython3",
   "version": "3.10.0"
  }
 },
 "nbformat": 4,
 "nbformat_minor": 2
}

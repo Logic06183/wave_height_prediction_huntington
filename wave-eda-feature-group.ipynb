{
 "cells": [
  {
   "cell_type": "markdown",
   "metadata": {},
   "source": [
    "# This notebook contains the EDA of the wave dataset "
   ]
  },
  {
   "cell_type": "markdown",
   "metadata": {},
   "source": [
    "## Calculate how long it takes for the wave to reach the beach\n",
    "### Calculate the distance of the buoy and the beach"
   ]
  },
  {
   "cell_type": "code",
   "execution_count": 2,
   "metadata": {},
   "outputs": [
    {
     "data": {
      "text/plain": [
       "18.190448525343243"
      ]
     },
     "execution_count": 2,
     "metadata": {},
     "output_type": "execute_result"
    }
   ],
   "source": [
    "from math import radians, cos, sin, sqrt, atan2\n",
    "\n",
    "# Coordinates of buoy station 46253\n",
    "buoy_lat, buoy_lon = 33.576, -118.181\n",
    "\n",
    "# Coordinates of Huntington Bay, California\n",
    "huntington_bay_lat, huntington_bay_lon = 33.6601, -118.0125\n",
    "\n",
    "# Function to calculate the distance between two points on the Earth\n",
    "def calculate_distance(lat1, lon1, lat2, lon2):\n",
    "    # Radius of the Earth in km\n",
    "    R = 6371.0\n",
    "\n",
    "    # coordinates in radians\n",
    "    lat1_rad = radians(lat1)\n",
    "    lon1_rad = radians(lon1)\n",
    "    lat2_rad = radians(lat2)\n",
    "    lon2_rad = radians(lon2)\n",
    "\n",
    "    dlon = lon2_rad - lon1_rad\n",
    "    dlat = lat2_rad - lat1_rad\n",
    "\n",
    "    # Haversine formula\n",
    "    a = sin(dlat / 2)**2 + cos(lat1_rad) * cos(lat2_rad) * sin(dlon / 2)**2\n",
    "    c = 2 * atan2(sqrt(a), sqrt(1 - a))\n",
    "\n",
    "    distance = R * c\n",
    "    return distance\n",
    "\n",
    "# Calculate the distance\n",
    "distance_km = calculate_distance(buoy_lat, buoy_lon, huntington_bay_lat, huntington_bay_lon)\n",
    "distance_km"
   ]
  },
  {
   "cell_type": "markdown",
   "metadata": {},
   "source": [
    "### Calcualte the time"
   ]
  },
  {
   "cell_type": "code",
   "execution_count": 3,
   "metadata": {},
   "outputs": [
    {
     "data": {
      "text/plain": [
       "0.4043860393369405"
      ]
     },
     "execution_count": 3,
     "metadata": {},
     "output_type": "execute_result"
    }
   ],
   "source": [
    "# Constants for calculation\n",
    "g = 9.81  # acceleration due to gravity in m/s^2\n",
    "\n",
    "# Average wavelength for regular ocean waves (in meters)\n",
    "# This is a typical value for a regular ocean wave. Actual wavelengths can vary.\n",
    "average_wavelength = 100  # meters\n",
    "\n",
    "# Calculating the speed of the wave in m/s using the deep water wave speed formula\n",
    "wave_speed = (g * average_wavelength / (2 * 3.14159)) ** 0.5\n",
    "wave_speed_km_per_hour = wave_speed * 3.6  # converting to km/h\n",
    "\n",
    "# Calculating the time in hours it takes for the wave to travel the distance\n",
    "travel_time_hours = distance_km / wave_speed_km_per_hour\n",
    "travel_time_hours"
   ]
  },
  {
   "cell_type": "code",
   "execution_count": 4,
   "metadata": {},
   "outputs": [
    {
     "data": {
      "text/plain": [
       "24.26316236021643"
      ]
     },
     "execution_count": 4,
     "metadata": {},
     "output_type": "execute_result"
    }
   ],
   "source": [
    "# Converting hours to minutes\n",
    "travel_time_minutes = travel_time_hours * 60\n",
    "travel_time_minutes"
   ]
  },
  {
   "cell_type": "code",
   "execution_count": null,
   "metadata": {},
   "outputs": [],
   "source": []
  }
 ],
 "metadata": {
  "kernelspec": {
   "display_name": "SMDL",
   "language": "python",
   "name": "python3"
  },
  "language_info": {
   "codemirror_mode": {
    "name": "ipython",
    "version": 3
   },
   "file_extension": ".py",
   "mimetype": "text/x-python",
   "name": "python",
   "nbconvert_exporter": "python",
   "pygments_lexer": "ipython3",
   "version": "3.10.13"
  }
 },
 "nbformat": 4,
 "nbformat_minor": 2
}
